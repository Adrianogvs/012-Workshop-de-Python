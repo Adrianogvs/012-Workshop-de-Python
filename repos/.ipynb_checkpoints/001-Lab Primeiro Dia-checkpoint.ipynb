{
 "cells": [
  {
   "cell_type": "markdown",
   "id": "85dee75d",
   "metadata": {},
   "source": [
    "# Libs necessárias"
   ]
  },
  {
   "cell_type": "code",
   "execution_count": 1,
   "id": "73696370",
   "metadata": {},
   "outputs": [],
   "source": [
    "# Pacotes para trabalhar com análise de dados\n",
    "import pandas as pd\n",
    "import pandas_datareader.data as web\n",
    "import numpy as np"
   ]
  },
  {
   "cell_type": "code",
   "execution_count": 2,
   "id": "78e8d4ce",
   "metadata": {},
   "outputs": [],
   "source": [
    "# Análises de gráfcos\n",
    "import matplotlib.pyplot as plt\n",
    "import seaborn as sns\n",
    "import plotly.graph_objects as go\n",
    "import plotly.express as px\n",
    "from plotly.subplots import make_subplots"
   ]
  },
  {
   "cell_type": "code",
   "execution_count": 3,
   "id": "f61be764",
   "metadata": {},
   "outputs": [],
   "source": [
    "# Função para data\n",
    "from datetime import datetime"
   ]
  },
  {
   "cell_type": "code",
   "execution_count": 4,
   "id": "428196b3",
   "metadata": {},
   "outputs": [],
   "source": [
    "# YFiance\n",
    "import yfinance as yf\n",
    "yf.pdr_override()"
   ]
  },
  {
   "cell_type": "code",
   "execution_count": 5,
   "id": "3e20fa49",
   "metadata": {},
   "outputs": [],
   "source": [
    "# Avisos\n",
    "import warnings\n",
    "warnings.filterwarnings('ignore')"
   ]
  },
  {
   "cell_type": "markdown",
   "id": "d69a2c38",
   "metadata": {},
   "source": [
    "### API Yahoo Finance\n",
    "\n",
    "O yfinance oferece uma maneira segmentada e Pythonic de baixar dados de mercado do Yahoo finanças."
   ]
  },
  {
   "cell_type": "code",
   "execution_count": 7,
   "id": "ea04d027",
   "metadata": {},
   "outputs": [
    {
     "name": "stdout",
     "output_type": "stream",
     "text": [
      "[*********************100%***********************]  1 of 1 completed\n"
     ]
    }
   ],
   "source": [
    "# Coletando os dados\n",
    "dados = web.get_data_yahoo( 'PETR4.SA', period='1y' )"
   ]
  },
  {
   "cell_type": "code",
   "execution_count": 8,
   "id": "20a4800a",
   "metadata": {},
   "outputs": [
    {
     "data": {
      "text/plain": [
       "(250, 6)"
      ]
     },
     "execution_count": 8,
     "metadata": {},
     "output_type": "execute_result"
    }
   ],
   "source": [
    "# Shape\n",
    "dados.shape"
   ]
  },
  {
   "cell_type": "code",
   "execution_count": 9,
   "id": "b5271875",
   "metadata": {},
   "outputs": [
    {
     "data": {
      "text/html": [
       "<div>\n",
       "<style scoped>\n",
       "    .dataframe tbody tr th:only-of-type {\n",
       "        vertical-align: middle;\n",
       "    }\n",
       "\n",
       "    .dataframe tbody tr th {\n",
       "        vertical-align: top;\n",
       "    }\n",
       "\n",
       "    .dataframe thead th {\n",
       "        text-align: right;\n",
       "    }\n",
       "</style>\n",
       "<table border=\"1\" class=\"dataframe\">\n",
       "  <thead>\n",
       "    <tr style=\"text-align: right;\">\n",
       "      <th></th>\n",
       "      <th>Open</th>\n",
       "      <th>High</th>\n",
       "      <th>Low</th>\n",
       "      <th>Close</th>\n",
       "      <th>Adj Close</th>\n",
       "      <th>Volume</th>\n",
       "    </tr>\n",
       "    <tr>\n",
       "      <th>Date</th>\n",
       "      <th></th>\n",
       "      <th></th>\n",
       "      <th></th>\n",
       "      <th></th>\n",
       "      <th></th>\n",
       "      <th></th>\n",
       "    </tr>\n",
       "  </thead>\n",
       "  <tbody>\n",
       "    <tr>\n",
       "      <th>2022-02-24</th>\n",
       "      <td>34.799999</td>\n",
       "      <td>35.290001</td>\n",
       "      <td>32.680000</td>\n",
       "      <td>33.389999</td>\n",
       "      <td>19.513241</td>\n",
       "      <td>139674100</td>\n",
       "    </tr>\n",
       "    <tr>\n",
       "      <th>2022-02-25</th>\n",
       "      <td>33.450001</td>\n",
       "      <td>34.000000</td>\n",
       "      <td>32.900002</td>\n",
       "      <td>34.000000</td>\n",
       "      <td>19.869728</td>\n",
       "      <td>86189100</td>\n",
       "    </tr>\n",
       "    <tr>\n",
       "      <th>2022-03-02</th>\n",
       "      <td>35.259998</td>\n",
       "      <td>35.290001</td>\n",
       "      <td>34.389999</td>\n",
       "      <td>34.669998</td>\n",
       "      <td>20.261278</td>\n",
       "      <td>58071800</td>\n",
       "    </tr>\n",
       "    <tr>\n",
       "      <th>2022-03-03</th>\n",
       "      <td>34.820000</td>\n",
       "      <td>34.930000</td>\n",
       "      <td>34.160000</td>\n",
       "      <td>34.240002</td>\n",
       "      <td>20.009987</td>\n",
       "      <td>69237400</td>\n",
       "    </tr>\n",
       "    <tr>\n",
       "      <th>2022-03-04</th>\n",
       "      <td>34.080002</td>\n",
       "      <td>34.680000</td>\n",
       "      <td>33.820000</td>\n",
       "      <td>34.230000</td>\n",
       "      <td>20.004143</td>\n",
       "      <td>55418000</td>\n",
       "    </tr>\n",
       "  </tbody>\n",
       "</table>\n",
       "</div>"
      ],
      "text/plain": [
       "                 Open       High        Low      Close  Adj Close     Volume\n",
       "Date                                                                        \n",
       "2022-02-24  34.799999  35.290001  32.680000  33.389999  19.513241  139674100\n",
       "2022-02-25  33.450001  34.000000  32.900002  34.000000  19.869728   86189100\n",
       "2022-03-02  35.259998  35.290001  34.389999  34.669998  20.261278   58071800\n",
       "2022-03-03  34.820000  34.930000  34.160000  34.240002  20.009987   69237400\n",
       "2022-03-04  34.080002  34.680000  33.820000  34.230000  20.004143   55418000"
      ]
     },
     "execution_count": 9,
     "metadata": {},
     "output_type": "execute_result"
    }
   ],
   "source": [
    "# Lendo os dados com a função head(), esta função apresenta os 5 priemiros registros na base de dados\n",
    "dados.head()"
   ]
  },
  {
   "cell_type": "code",
   "execution_count": 10,
   "id": "05897c92",
   "metadata": {},
   "outputs": [
    {
     "data": {
      "text/html": [
       "<div>\n",
       "<style scoped>\n",
       "    .dataframe tbody tr th:only-of-type {\n",
       "        vertical-align: middle;\n",
       "    }\n",
       "\n",
       "    .dataframe tbody tr th {\n",
       "        vertical-align: top;\n",
       "    }\n",
       "\n",
       "    .dataframe thead th {\n",
       "        text-align: right;\n",
       "    }\n",
       "</style>\n",
       "<table border=\"1\" class=\"dataframe\">\n",
       "  <thead>\n",
       "    <tr style=\"text-align: right;\">\n",
       "      <th></th>\n",
       "      <th>Open</th>\n",
       "      <th>High</th>\n",
       "      <th>Low</th>\n",
       "      <th>Close</th>\n",
       "      <th>Adj Close</th>\n",
       "      <th>Volume</th>\n",
       "    </tr>\n",
       "    <tr>\n",
       "      <th>Date</th>\n",
       "      <th></th>\n",
       "      <th></th>\n",
       "      <th></th>\n",
       "      <th></th>\n",
       "      <th></th>\n",
       "      <th></th>\n",
       "    </tr>\n",
       "  </thead>\n",
       "  <tbody>\n",
       "    <tr>\n",
       "      <th>2023-02-16</th>\n",
       "      <td>26.60</td>\n",
       "      <td>26.950001</td>\n",
       "      <td>26.490000</td>\n",
       "      <td>26.850000</td>\n",
       "      <td>26.850000</td>\n",
       "      <td>44115700</td>\n",
       "    </tr>\n",
       "    <tr>\n",
       "      <th>2023-02-17</th>\n",
       "      <td>26.67</td>\n",
       "      <td>26.670000</td>\n",
       "      <td>26.370001</td>\n",
       "      <td>26.440001</td>\n",
       "      <td>26.440001</td>\n",
       "      <td>61085700</td>\n",
       "    </tr>\n",
       "    <tr>\n",
       "      <th>2023-02-22</th>\n",
       "      <td>26.00</td>\n",
       "      <td>26.110001</td>\n",
       "      <td>25.690001</td>\n",
       "      <td>25.760000</td>\n",
       "      <td>25.760000</td>\n",
       "      <td>38608500</td>\n",
       "    </tr>\n",
       "    <tr>\n",
       "      <th>2023-02-23</th>\n",
       "      <td>25.77</td>\n",
       "      <td>26.790001</td>\n",
       "      <td>25.770000</td>\n",
       "      <td>26.549999</td>\n",
       "      <td>26.549999</td>\n",
       "      <td>73913400</td>\n",
       "    </tr>\n",
       "    <tr>\n",
       "      <th>2023-02-24</th>\n",
       "      <td>26.67</td>\n",
       "      <td>26.700001</td>\n",
       "      <td>26.100000</td>\n",
       "      <td>26.180000</td>\n",
       "      <td>26.180000</td>\n",
       "      <td>13854300</td>\n",
       "    </tr>\n",
       "  </tbody>\n",
       "</table>\n",
       "</div>"
      ],
      "text/plain": [
       "             Open       High        Low      Close  Adj Close    Volume\n",
       "Date                                                                   \n",
       "2023-02-16  26.60  26.950001  26.490000  26.850000  26.850000  44115700\n",
       "2023-02-17  26.67  26.670000  26.370001  26.440001  26.440001  61085700\n",
       "2023-02-22  26.00  26.110001  25.690001  25.760000  25.760000  38608500\n",
       "2023-02-23  25.77  26.790001  25.770000  26.549999  26.549999  73913400\n",
       "2023-02-24  26.67  26.700001  26.100000  26.180000  26.180000  13854300"
      ]
     },
     "execution_count": 10,
     "metadata": {},
     "output_type": "execute_result"
    }
   ],
   "source": [
    "# Ultimos registros, basta usar a função tail()\n",
    "dados.tail()"
   ]
  },
  {
   "cell_type": "code",
   "execution_count": 11,
   "id": "5c08ac73",
   "metadata": {},
   "outputs": [
    {
     "data": {
      "text/html": [
       "<div>\n",
       "<style scoped>\n",
       "    .dataframe tbody tr th:only-of-type {\n",
       "        vertical-align: middle;\n",
       "    }\n",
       "\n",
       "    .dataframe tbody tr th {\n",
       "        vertical-align: top;\n",
       "    }\n",
       "\n",
       "    .dataframe thead th {\n",
       "        text-align: right;\n",
       "    }\n",
       "</style>\n",
       "<table border=\"1\" class=\"dataframe\">\n",
       "  <thead>\n",
       "    <tr style=\"text-align: right;\">\n",
       "      <th></th>\n",
       "      <th>Open</th>\n",
       "      <th>High</th>\n",
       "      <th>Low</th>\n",
       "      <th>Close</th>\n",
       "      <th>Adj Close</th>\n",
       "      <th>Volume</th>\n",
       "    </tr>\n",
       "  </thead>\n",
       "  <tbody>\n",
       "    <tr>\n",
       "      <th>count</th>\n",
       "      <td>250.000000</td>\n",
       "      <td>250.000000</td>\n",
       "      <td>250.000000</td>\n",
       "      <td>250.000000</td>\n",
       "      <td>250.000000</td>\n",
       "      <td>2.500000e+02</td>\n",
       "    </tr>\n",
       "    <tr>\n",
       "      <th>mean</th>\n",
       "      <td>29.697840</td>\n",
       "      <td>30.229120</td>\n",
       "      <td>29.161360</td>\n",
       "      <td>29.710760</td>\n",
       "      <td>23.653501</td>\n",
       "      <td>8.150131e+07</td>\n",
       "    </tr>\n",
       "    <tr>\n",
       "      <th>std</th>\n",
       "      <td>3.665291</td>\n",
       "      <td>3.691001</td>\n",
       "      <td>3.611885</td>\n",
       "      <td>3.647601</td>\n",
       "      <td>3.490359</td>\n",
       "      <td>3.738428e+07</td>\n",
       "    </tr>\n",
       "    <tr>\n",
       "      <th>min</th>\n",
       "      <td>21.000000</td>\n",
       "      <td>22.110001</td>\n",
       "      <td>20.770000</td>\n",
       "      <td>21.469999</td>\n",
       "      <td>17.537956</td>\n",
       "      <td>1.385430e+07</td>\n",
       "    </tr>\n",
       "    <tr>\n",
       "      <th>25%</th>\n",
       "      <td>26.585000</td>\n",
       "      <td>27.065000</td>\n",
       "      <td>26.105000</td>\n",
       "      <td>26.700001</td>\n",
       "      <td>20.342245</td>\n",
       "      <td>5.607485e+07</td>\n",
       "    </tr>\n",
       "    <tr>\n",
       "      <th>50%</th>\n",
       "      <td>30.415000</td>\n",
       "      <td>30.710000</td>\n",
       "      <td>29.815000</td>\n",
       "      <td>30.090000</td>\n",
       "      <td>23.754831</td>\n",
       "      <td>7.266990e+07</td>\n",
       "    </tr>\n",
       "    <tr>\n",
       "      <th>75%</th>\n",
       "      <td>32.599998</td>\n",
       "      <td>33.105000</td>\n",
       "      <td>32.017501</td>\n",
       "      <td>32.557501</td>\n",
       "      <td>26.238671</td>\n",
       "      <td>9.660060e+07</td>\n",
       "    </tr>\n",
       "    <tr>\n",
       "      <th>max</th>\n",
       "      <td>37.650002</td>\n",
       "      <td>38.389999</td>\n",
       "      <td>36.849998</td>\n",
       "      <td>37.720001</td>\n",
       "      <td>33.003029</td>\n",
       "      <td>3.195016e+08</td>\n",
       "    </tr>\n",
       "  </tbody>\n",
       "</table>\n",
       "</div>"
      ],
      "text/plain": [
       "             Open        High         Low       Close   Adj Close  \\\n",
       "count  250.000000  250.000000  250.000000  250.000000  250.000000   \n",
       "mean    29.697840   30.229120   29.161360   29.710760   23.653501   \n",
       "std      3.665291    3.691001    3.611885    3.647601    3.490359   \n",
       "min     21.000000   22.110001   20.770000   21.469999   17.537956   \n",
       "25%     26.585000   27.065000   26.105000   26.700001   20.342245   \n",
       "50%     30.415000   30.710000   29.815000   30.090000   23.754831   \n",
       "75%     32.599998   33.105000   32.017501   32.557501   26.238671   \n",
       "max     37.650002   38.389999   36.849998   37.720001   33.003029   \n",
       "\n",
       "             Volume  \n",
       "count  2.500000e+02  \n",
       "mean   8.150131e+07  \n",
       "std    3.738428e+07  \n",
       "min    1.385430e+07  \n",
       "25%    5.607485e+07  \n",
       "50%    7.266990e+07  \n",
       "75%    9.660060e+07  \n",
       "max    3.195016e+08  "
      ]
     },
     "execution_count": 11,
     "metadata": {},
     "output_type": "execute_result"
    }
   ],
   "source": [
    "# A função describe() apresenta uma estatística dos dados importados\n",
    "dados.describe()"
   ]
  },
  {
   "cell_type": "code",
   "execution_count": 12,
   "id": "7759b631",
   "metadata": {},
   "outputs": [
    {
     "name": "stdout",
     "output_type": "stream",
     "text": [
      "<class 'pandas.core.frame.DataFrame'>\n",
      "DatetimeIndex: 250 entries, 2022-02-24 to 2023-02-24\n",
      "Data columns (total 6 columns):\n",
      " #   Column     Non-Null Count  Dtype  \n",
      "---  ------     --------------  -----  \n",
      " 0   Open       250 non-null    float64\n",
      " 1   High       250 non-null    float64\n",
      " 2   Low        250 non-null    float64\n",
      " 3   Close      250 non-null    float64\n",
      " 4   Adj Close  250 non-null    float64\n",
      " 5   Volume     250 non-null    int64  \n",
      "dtypes: float64(5), int64(1)\n",
      "memory usage: 13.7 KB\n"
     ]
    }
   ],
   "source": [
    "# Comando info() me da todas as informações da base de dados\n",
    "dados.info()"
   ]
  },
  {
   "cell_type": "code",
   "execution_count": 13,
   "id": "81daf3f7",
   "metadata": {},
   "outputs": [
    {
     "name": "stdout",
     "output_type": "stream",
     "text": [
      "Media: 14\n",
      "Media: 14.0\n"
     ]
    }
   ],
   "source": [
    "# Medias moveis na informação de fechamento, a qual ajuda identificar algumas tendências\n",
    "# formula MMA = soma dos preços de fechamento + números de dias\n",
    "\n",
    "# Média Simples usando a função statistics\n",
    "lista = [11,12,13,14,15,16, 17]\n",
    "\n",
    "from statistics import mean as media\n",
    "print(f'Media: { media(lista) }')\n",
    "\n",
    "# Média Simples sem usar a dunção statistics\n",
    "print(f'Media: {(11 + 12 + 13 + 14 + 15 + 16 + 17) / len(lista)}')"
   ]
  },
  {
   "cell_type": "code",
   "execution_count": 14,
   "id": "90d365cd",
   "metadata": {},
   "outputs": [
    {
     "data": {
      "text/plain": [
       "14"
      ]
     },
     "execution_count": 14,
     "metadata": {},
     "output_type": "execute_result"
    }
   ],
   "source": [
    "media (lista)"
   ]
  },
  {
   "cell_type": "code",
   "execution_count": 15,
   "id": "998b0f7a",
   "metadata": {},
   "outputs": [
    {
     "name": "stdout",
     "output_type": "stream",
     "text": [
      "0\n",
      "1\n",
      "2\n",
      "3\n",
      "4\n",
      "5\n",
      "6\n",
      "7\n",
      "8\n",
      "9\n"
     ]
    }
   ],
   "source": [
    "# Período da média móvel\n",
    "for loop in range(10):\n",
    "    print(loop)\n"
   ]
  },
  {
   "cell_type": "code",
   "execution_count": null,
   "id": "5d9ba15e",
   "metadata": {},
   "outputs": [],
   "source": []
  }
 ],
 "metadata": {
  "kernelspec": {
   "display_name": "Python 3 (ipykernel)",
   "language": "python",
   "name": "python3"
  },
  "language_info": {
   "codemirror_mode": {
    "name": "ipython",
    "version": 3
   },
   "file_extension": ".py",
   "mimetype": "text/x-python",
   "name": "python",
   "nbconvert_exporter": "python",
   "pygments_lexer": "ipython3",
   "version": "3.9.13"
  }
 },
 "nbformat": 4,
 "nbformat_minor": 5
}
